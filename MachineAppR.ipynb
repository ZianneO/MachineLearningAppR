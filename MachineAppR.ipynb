{
 "cells": [
  {
   "cell_type": "markdown",
   "id": "8c3dbf03-e772-40c3-b56a-2438ab5947b3",
   "metadata": {},
   "source": [
    "# Machine Learning App R\n",
    "## Zianne Olverson"
   ]
  },
  {
   "cell_type": "code",
   "execution_count": 1,
   "id": "2343aea0-2f57-458c-a718-26f48fcdf92b",
   "metadata": {},
   "outputs": [
    {
     "name": "stderr",
     "output_type": "stream",
     "text": [
      "Updating HTML index of packages in '.Library'\n",
      "\n",
      "Making 'packages.html' ...\n",
      " done\n",
      "\n"
     ]
    }
   ],
   "source": [
    "install.packages(\"caret\")"
   ]
  },
  {
   "cell_type": "code",
   "execution_count": null,
   "id": "c9169752-1e31-494b-a47b-c572157dfcd4",
   "metadata": {},
   "outputs": [
    {
     "name": "stderr",
     "output_type": "stream",
     "text": [
      "Warning message:\n",
      "“package ‘randomForest’ is not available for this version of R\n",
      "‘randomForest’ version 4.7-1.1 is in the repositories but depends on R (>= 4.1.0)\n",
      "\n",
      "A version of this package for your version of R might be available elsewhere,\n",
      "see the ideas at\n",
      "https://cran.r-project.org/doc/manuals/r-patched/R-admin.html#Installing-packages”\n",
      "also installing the dependencies ‘R.oo’, ‘R.utils’, ‘R.cache’, ‘lifecycle’, ‘styler’, ‘labelled’, ‘rlang’, ‘scales’, ‘vctrs’, ‘combinat’, ‘questionr’\n",
      "\n",
      "\n"
     ]
    }
   ],
   "source": [
    "install.packages(c(\"ggplot2\", \"lattice\", \"e1071\", \"randomForest\", \"klaR\", \"rpart\", \"nnet\"))"
   ]
  },
  {
   "cell_type": "code",
   "execution_count": null,
   "id": "3bb8ef3d-e57f-430c-b745-4676bbc31de9",
   "metadata": {},
   "outputs": [],
   "source": [
    "library(caret)"
   ]
  },
  {
   "cell_type": "markdown",
   "id": "ed424eae-f328-42bd-9917-127025839fd4",
   "metadata": {},
   "source": [
    "# Attach the iris dataset to the environment"
   ]
  },
  {
   "cell_type": "code",
   "execution_count": null,
   "id": "109b3748-3d78-436f-a300-7c001e447539",
   "metadata": {},
   "outputs": [],
   "source": [
    "data(iris)"
   ]
  },
  {
   "cell_type": "markdown",
   "id": "ccf312ee-1430-4ad6-935b-238cb03c3376",
   "metadata": {},
   "source": [
    "# Rename the dataset"
   ]
  },
  {
   "cell_type": "code",
   "execution_count": null,
   "id": "50909ea6-d52f-4698-a026-1ef12de9bbbe",
   "metadata": {},
   "outputs": [],
   "source": [
    "dataset <- iris"
   ]
  },
  {
   "cell_type": "code",
   "execution_count": null,
   "id": "973936cc-f648-4f2f-b31b-858d1768cbe8",
   "metadata": {},
   "outputs": [],
   "source": [
    "# define the filename\n",
    "filename <- \"iris.csv\"\n",
    "# load the CSV file from the local directory\n",
    "dataset <- read.csv(filename, header=FALSE)\n",
    "# set the column names in the dataset\n",
    "colnames(dataset) <- c(\"Sepal.Length\",\"Sepal.Width\",\"Petal.Length\",\"Petal.Width\",\"Species\")"
   ]
  },
  {
   "cell_type": "code",
   "execution_count": null,
   "id": "d94b272b-0cf7-46ab-b4a1-c30097c9ceec",
   "metadata": {},
   "outputs": [],
   "source": [
    "\n",
    "# create a list of 80% of the rows in the original dataset we can use for training\n",
    "validation_index <- createDataPartition(dataset$Species, p=0.80, list=FALSE)\n",
    "# select 20% of the data for validation\n",
    "validation <- dataset[-validation_index,]\n",
    "# use the remaining 80% of data to training and testing the models\n",
    "dataset <- dataset[validation_index,]"
   ]
  },
  {
   "cell_type": "code",
   "execution_count": null,
   "id": "ec201de3-90ad-4a8d-acd8-97df016727fd",
   "metadata": {},
   "outputs": [],
   "source": [
    "# dimensions of dataset\n",
    "dim(dataset)"
   ]
  },
  {
   "cell_type": "code",
   "execution_count": null,
   "id": "a9668c99-eb71-4b3d-9f85-9be380eafd51",
   "metadata": {},
   "outputs": [],
   "source": [
    "# list types for each attribute\n",
    "sapply(dataset, class)"
   ]
  },
  {
   "cell_type": "code",
   "execution_count": null,
   "id": "f8ed8a18-e224-445d-b645-59e8a689b71e",
   "metadata": {},
   "outputs": [],
   "source": [
    "\n",
    "Sepal.Length Sepal.Width Petal.Length Petal.Width Species \n",
    " \"numeric\" \"numeric\" \"numeric\" \"numeric\" \"factor\""
   ]
  },
  {
   "cell_type": "code",
   "execution_count": null,
   "id": "ca8c2eb2-cccc-4096-9de5-add0a0cae1e8",
   "metadata": {},
   "outputs": [],
   "source": [
    "\n",
    "# take a peek at the first 5 rows of the data\n",
    "head(dataset)"
   ]
  },
  {
   "cell_type": "code",
   "execution_count": null,
   "id": "65a01cd2-e65c-44a2-9238-107465c7fe2d",
   "metadata": {},
   "outputs": [],
   "source": [
    "\n",
    "# list the levels for the class\n",
    "levels(dataset$Species)"
   ]
  },
  {
   "cell_type": "code",
   "execution_count": null,
   "id": "3643d974-e78a-45c8-a2b2-d8314a89daf9",
   "metadata": {},
   "outputs": [],
   "source": [
    "\n",
    "# summarize the class distribution\n",
    "percentage <- prop.table(table(dataset$Species)) * 100\n",
    "cbind(freq=table(dataset$Species), percentage=percentage)"
   ]
  },
  {
   "cell_type": "code",
   "execution_count": null,
   "id": "ce7259c1-cc31-4395-b6b0-c71447fc5b47",
   "metadata": {},
   "outputs": [],
   "source": []
  }
 ],
 "metadata": {
  "kernelspec": {
   "display_name": "R",
   "language": "R",
   "name": "ir"
  },
  "language_info": {
   "codemirror_mode": "r",
   "file_extension": ".r",
   "mimetype": "text/x-r-source",
   "name": "R",
   "pygments_lexer": "r",
   "version": "4.0.5"
  }
 },
 "nbformat": 4,
 "nbformat_minor": 5
}
