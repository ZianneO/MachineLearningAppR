{
 "cells": [
  {
   "cell_type": "markdown",
   "id": "8c3dbf03-e772-40c3-b56a-2438ab5947b3",
   "metadata": {},
   "source": [
    "# Machine Learning App R\n",
    "## Zianne Olverson"
   ]
  },
  {
   "cell_type": "code",
   "execution_count": 1,
   "id": "9ba82a10-9896-40b9-81aa-fe1fc5d9d07c",
   "metadata": {},
   "outputs": [
    {
     "name": "stderr",
     "output_type": "stream",
     "text": [
      "Updating HTML index of packages in '.Library'\n",
      "\n",
      "Making 'packages.html' ...\n",
      " done\n",
      "\n"
     ]
    }
   ],
   "source": [
    "install.packages(\"caret\")"
   ]
  },
  {
   "cell_type": "code",
   "execution_count": null,
   "id": "fcbd81a7-dbfb-49dd-95a3-01ea84523cc7",
   "metadata": {},
   "outputs": [
    {
     "name": "stderr",
     "output_type": "stream",
     "text": [
      "Warning message:\n",
      "“dependencies ‘rms’, ‘vip’, ‘Hmisc’, ‘survey’, ‘graph’, ‘Sleuth2’, ‘RTCGA.rnaseq’, ‘globaltest’, ‘emmeans’, ‘pbkrtest’, ‘estimability’, ‘MuMIn’, ‘phangorn’, ‘actuar’, ‘VGAMextra’, ‘marray’, ‘affy’, ‘Biobase’, ‘limma’, ‘Rgraphviz’, ‘vegan’, ‘biomaRt’, ‘KEGGgraph’, ‘sylly.de’, ‘sylly.es’, ‘tinytable’, ‘locfit’, ‘OpenStreetMap’, ‘starsdata’, ‘cairoDevice’, ‘doBy’, ‘RGtk2’, ‘glmmADMB’, ‘subplex’, ‘piecewiseSEM’, ‘Matrix’, ‘coneproj’, ‘rnaturalearthhires’, ‘Rcampdf’, ‘tm.lexicon.GeneralInquirer’, ‘loe’, ‘biglmm’, ‘gtsummary’, ‘cmdstanr’, ‘umx’, ‘ExactData’, ‘DescTools’, ‘bssm’, ‘ComplexHeatmap’, ‘M3C’, ‘BiocVersion’, ‘BiocStyle’, ‘spDataLarge’, ‘bayesQR’, ‘randomForest’, ‘gurobi’, ‘rrelaxiv’, ‘RandomFields’, ‘taxidata’, ‘rmcorr’, ‘BiocParallel’, ‘htmlTable’, ‘genefilter’, ‘sva’, ‘randomForestSRC’, ‘lda’ are not available”\n",
      "also installing the dependencies ‘asciicast’, ‘callr’, ‘filelock’, ‘pkgbuild’, ‘pkgcache’, ‘pkgdepends’, ‘pkgsearch’, ‘processx’, ‘getPass’, ‘Rmosek’, ‘packrat’, ‘pak’, ‘gdtools’, ‘git2r’, ‘REBayes’, ‘dockerfiler’, ‘attachment’, ‘renv’, ‘ggiraph’, ‘gistr’, ‘ashr’, ‘OAIHarvester’, ‘naivebayes’, ‘sparsediscrim’, ‘gss’, ‘kmi’, ‘golem’, ‘thematic’, ‘geojsonio’, ‘bvls’, ‘bartMachineJARs’, ‘ncvreg’, ‘topicmodels’, ‘discrim’, ‘RcppHungarian’, ‘betacal’, ‘quantregForest’, ‘smcfcs’, ‘casebase’, ‘grpreg’, ‘hal9001’, ‘dr’, ‘ash’, ‘geozoo’, ‘bs4Dash’, ‘highcharter’, ‘mcmcse’, ‘pimeta’, ‘writexl’, ‘robvis’, ‘hasseDiagram’, ‘cccp’, ‘nnls’, ‘bartMachine’, ‘biglasso’, ‘KernelKnn’, ‘LogicReg’, ‘SIS’, ‘ccaPP’, ‘udpipe’, ‘finetune’, ‘tidyclust’, ‘probably’, ‘aplore3’, ‘GLMsData’, ‘riskRegression’, ‘mschart’, ‘rvg’, ‘LDRTools’, ‘tourr’, ‘ggstance’, ‘shinyEffects’, ‘shinyjqui’, ‘runjags’, ‘modeest’, ‘semTools’, ‘nimble’, ‘docopt’, ‘jose’, ‘ROI.plugin.ecos’, ‘ROI.plugin.alabama’, ‘ROI.plugin.neos’, ‘profileModel’, ‘enrichwith’, ‘meta’, ‘netmeta’, ‘shinyBS’, ‘weights’, ‘SuperLearner’, ‘MNP’, ‘osqp’, ‘misaem’, ‘giscoR’, ‘ALEPlot’, ‘yaImpute’, ‘text2vec’, ‘mlr3data’, ‘workflowsets’, ‘yardstick’, ‘mvnfast’, ‘censReg’, ‘feisr’, ‘fungible’, ‘glmtoolbox’, ‘JM’, ‘lavaSearch2’, ‘merTools’, ‘metaplus’, ‘distances’, ‘mbend’, ‘ppcor’, ‘openxlsx2’, ‘zipfR’, ‘FactoInvestigate’, ‘NlcOptim’, ‘Gmedian’, ‘ICSNP’, ‘moments’, ‘ICSClust’, ‘REPPlab’, ‘bootES’, ‘ggsignif’, ‘interactions’, ‘Rmisc’, ‘bspec’, ‘RSEIS’, ‘signal’, ‘shinydashboardPlus’, ‘googleComputeEngineR’, ‘sodium’, ‘blavaan’, ‘bridgesampling’, ‘httr2’, ‘ordbetareg’, ‘detectseparation’, ‘brglm’, ‘mbrglm’, ‘metadat’, ‘robumeta’, ‘geomtextpath’, ‘visreg’, ‘ggside’, ‘qqplotr’, ‘simplermarkdown’, ‘harrypotter’, ‘oompaBase’, ‘palr’, ‘pals’, ‘scico’, ‘reactlog’, ‘jtools’, ‘ggpol’, ‘ez’, ‘ggResidpanel’, ‘WeightIt’, ‘twang’, ‘twangContinuous’, ‘Matching’, ‘ebal’, ‘CBPS’, ‘designmatch’, ‘optweight’, ‘MatchThem’, ‘cem’, ‘sbw’, ‘fastverse’, ‘kit’, ‘eurostat’, ‘DALEX’, ‘auditor’, ‘iml’, ‘ingredients’, ‘lime’, ‘localModel’, ‘mlr3’, ‘stacks’, ‘PairedData’, ‘fabricatr’, ‘randomizr’, ‘prediction’, ‘gld’, ‘plotfunctions’, ‘insight’, ‘quickmatch’, ‘RcppProgress’, ‘highs’, ‘correlation’, ‘report’, ‘did’, ‘gtExtras’, ‘pandoc’, ‘wesanderson’, ‘RItools’, ‘doMC’, ‘languageR’, ‘svDialogs’, ‘SemiPar’, ‘dominanceanalysis’, ‘relaimpo’, ‘missMDA’, ‘Factoshiny’, ‘pracma’, ‘BiasedUrn’, ‘wildmeta’, ‘estmeansd’, ‘metaBLUE’, ‘skimr’, ‘bigutilsr’, ‘ICS’, ‘ICSOutlier’, ‘ISLR’, ‘multimode’, ‘rempsyc’, ‘withr’, ‘tippy’, ‘psd’, ‘slp’, ‘shinyWidgets’, ‘flashClust’, ‘showtextdb’, ‘clustermq’, ‘crew’, ‘googleCloudStorageR’, ‘nanonext’, ‘parallelly’, ‘paws.common’, ‘paws.storage’, ‘pingr’, ‘shinybusy’, ‘torch’, ‘shinydisconnect’, ‘shinyvalidate’, ‘denstrip’, ‘rjson’, ‘networkD3’, ‘treemap’, ‘VarianceGamma’, ‘SkewHyperbolic’, ‘RcmdrMisc’, ‘aplpack’, ‘nortest’, ‘shock’, ‘RcmdrPlugin.HH’, ‘microplot’, ‘sommer’, ‘SurvMetrics’, ‘SGPdata’, ‘vcr’, ‘bezier’, ‘doRedis’, ‘rbibutils’, ‘pkgmaker’, ‘slider’, ‘aod’, ‘bayestestR’, ‘brglm2’, ‘clubSandwich’, ‘datawizard’, ‘logistf’, ‘nestedLogit’, ‘sdmTMB’, ‘see’, ‘sjstats’, ‘digest’, ‘fontawesome’, ‘paletteer’, ‘shiny’, ‘apollo’, ‘fastDummies’, ‘gmnl’, ‘mixl’, ‘Amelia’, ‘afex’, ‘brmsmargins’, ‘causaldata’, ‘clarify’, ‘cjoint’, ‘cobalt’, ‘collapse’, ‘conflicted’, ‘countrycode’, ‘crch’, ‘DALEXtra’, ‘DCchoice’, ‘distributional’, ‘equivalence’, ‘estimatr’, ‘fmeffects’, ‘fwb’, ‘ggokabeito’, ‘glmx’, ‘itsadug’, ‘ivreg’, ‘MatchIt’, ‘mclogit’, ‘missRanger’, ‘mlr3verse’, ‘modelbased’, ‘modelsummary’, ‘optmatch’, ‘phylolm’, ‘polspline’, ‘Rchoice’, ‘REndo’, ‘scam’, ‘tictoc’, ‘tidymodels’, ‘tinysnapshot’, ‘titanic’, ‘tsModel’, ‘altdoc’, ‘clusterGeneration’, ‘sasr’, ‘BayesFactor’, ‘BayesFM’, ‘cAIC4’, ‘cgam’, ‘ClassDiscovery’, ‘cplm’, ‘domir’, ‘effectsize’, ‘EGAnet’, ‘epiR’, ‘factoextra’, ‘FactoMineR’, ‘lm.beta’, ‘metaBMA’, ‘metafor’, ‘mfx’, ‘NbClust’, ‘nFactors’, ‘panelr’, ‘PCDimension’, ‘performance’, ‘PROreg’, ‘RcppEigen’, ‘serp’, ‘sparsepca’, ‘svylme’, ‘WRS2’, ‘ggsurvfit’, ‘reactable’, ‘NISTunits’, ‘measurements’, ‘purrrlyr’, ‘rlang’, ‘pixmap’, ‘multitaper’, ‘rootSolve’, ‘diagram’, ‘visNetwork’, ‘coro’, ‘redoc’, ‘rapidoc’, ‘brotli’, ‘zip’, ‘BayesXsrc’, ‘MBA’, ‘wkb’, ‘R.methodsS3’, ‘gridSVG’, ‘JuliaCall’, ‘showtext’, ‘styler’, ‘targets’, ‘tikzDevice’, ‘tinytex’, ‘mbest’, ‘rintrojs’, ‘shinyjs’, ‘shinytest2’, ‘jsonify’, ‘colourvalues’, ‘sfheaders’, ‘rpanel’, ‘trajectories’, ‘adehabitatMA’, ‘data.tree’, ‘influenceR’, ‘netrankr’, ‘NetSwan’, ‘future.callr’, ‘doFuture’, ‘glba’, ‘binom’, ‘LaplacesDemon’, ‘skellam’, ‘triangle’, ‘beeswarm’, ‘sysfonts’, ‘stringdist’, ‘changepoint’, ‘KFAS’, ‘MSwM’, ‘lfda’, ‘mc2d’, ‘GeneralizedHyperbolic’, ‘dismo’, ‘BRugs’, ‘FMStable’, ‘missForest’, ‘CCP’, ‘gganimate’, ‘sfnetworks’, ‘Rcmdr’, ‘Rmixmod’, ‘xLLiM’, ‘elevatr’, ‘agricolae’, ‘desplot’, ‘gge’, ‘HH’, ‘lucid’, ‘NADA’, ‘nullabor’, ‘qicharts’, ‘qtl’, ‘SpATS’, ‘qcc’, ‘colourpicker’, ‘DBI’, ‘keyring’, ‘mockr’, ‘shinyAce’, ‘shinydashboard’, ‘irr’, ‘survival’, ‘aorsf’, ‘r2d2’, ‘SGP’, ‘taxize’, ‘heatmaply’, ‘dynamicTreeCut’, ‘pvclust’, ‘circlize’, ‘doRNG’, ‘irlba’, ‘MPsychoR’, ‘calibrate’, ‘katex’, ‘cleanrmd’, ‘pryr’, ‘adbcdrivermanager’, ‘clock’, ‘flexdashboard’, ‘ggeffects’, ‘ggstats’, ‘gt’, ‘logitr’, ‘marginaleffects’, ‘margins’, ‘mmrm’, ‘multgee’, ‘parameters’, ‘tidycmprsk’, ‘concaveman’, ‘latex2exp’, ‘units’, ‘questionr’, ‘snakecase’, ‘statnet.common’, ‘RhpcBLASctl’, ‘R2HTML’, ‘ade4TkGUI’, ‘adegraphics’, ‘adephylo’, ‘CircStats’, ‘splancs’, ‘waveslim’, ‘rainbow’, ‘FME’, ‘spam64’, ‘truncdist’, ‘alluvial’, ‘babynames’, ‘ggfittext’, ‘BiocManager’, ‘plumber’, ‘webfakes’, ‘R2BayesX’, ‘spData’, ‘spatialreg’, ‘classInt’, ‘rgeoda’, ‘texPreview’, ‘R.oo’, ‘formattable’, ‘sparkline’, ‘knitr’, ‘r2rtf’, ‘relsurv’, ‘date’, ‘skpr’, ‘geojsonsf’, ‘googleway’, ‘spatialwidget’, ‘RMariaDB’, ‘sm’, ‘nleqslv’, ‘fftw’, ‘ozmaps’, ‘sftime’, ‘adehabitatLT’, ‘cshapes’, ‘ISOcodes’, ‘httptest2’, ‘tidygraph’, ‘shinythemes’, ‘isa2’, ‘tree’, ‘psychTools’, ‘Rcsdp’, ‘oz’, ‘miscTools’, ‘dlm’, ‘polycor’, ‘DiagrammeR’, ‘inlinedocs’, ‘pbivnorm’, ‘pbv’, ‘projpred’, ‘RWiener’, ‘rtdists’, ‘extraDistr’, ‘mnormt’, ‘arm’, ‘optimParallel’, ‘orthopolynom’, ‘bayesm’, ‘speedglm’, ‘ggdist’, ‘rjags’, ‘ROI’, ‘sjmisc’, ‘sjPlot’, ‘GPArotation’, ‘WrightMap’, ‘BH’, ‘ggfortify’, ‘loo’, ‘fitdistrplus’, ‘maxlike’, ‘R2OpenBUGS’, ‘R2WinBUGS’, ‘jagsUI’, ‘stabledist’, ‘TTR’, ‘downloader’, ‘adagio’, ‘benchr’, ‘bife’, ‘gridBase’, ‘ca’, ‘circular’, ‘WWGbook’, ‘rpf’, ‘snowfall’, ‘ifaTools’, ‘tidyLPA’, ‘formatR’, ‘dagitty’, ‘ggraph’, ‘rclipboard’, ‘relimp’, ‘qgam’, ‘rcdd’, ‘Infusion’, ‘IsoriX’, ‘blackbox’, ‘ROI.plugin.glpk’, ‘rsae’, ‘multilevel’, ‘agridat’, ‘doconv’, ‘equatags’, ‘officedown’, ‘devEMF’, ‘invgamma’, ‘ipumsr’, ‘EnvStats’, ‘drc’, ‘TRAMPR’, ‘stargazer’, ‘pinp’, ‘DiagrammeRsvg’, ‘dm’, ‘pixarfilms’, ‘prettycode’, ‘CVST’, ‘registry’, ‘rngtools’, ‘bigmemory’, ‘synchronicity’, ‘CompQuadForm’, ‘censored’, ‘gplots’, ‘gtools’, ‘dbscan’, ‘DendSer’, ‘dendextend’, ‘GA’, ‘Rtsne’, ‘smacof’, ‘umap’, ‘ggplot2movies’, ‘rmarkdown’, ‘gginnards’, ‘distro’, ‘duckdb’, ‘shinytest’, ‘webshot’, ‘broom.helpers’, ‘geosphere’, ‘ggforce’, ‘intergraph’, ‘labelled’, ‘network’, ‘scagnostics’, ‘sna’, ‘itertools’, ‘future’, ‘BatchJobs’, ‘rlecuyer’, ‘scalreg’, ‘R.devices’, ‘ascii’, ‘binda’, ‘Rglpk’, ‘Rsymphony’, ‘ade4’, ‘av’, ‘rsvg’, ‘gapminder’, ‘gifski’, ‘futile.logger’, ‘fds’, ‘deSolve’, ‘spam’, ‘seasonalview’, ‘sn’, ‘ragg’, ‘ggthemes’, ‘ggalluvial’, ‘listviewer’, ‘plotlyGeoAssets’, ‘palmerpenguins’, ‘KrigInv’, ‘GPareto’, ‘rsconnect’, ‘servr’, ‘gamboostLSS’, ‘shapefiles’, ‘spdep’, ‘BBmisc’, ‘slackr’, ‘RPushbullet’, ‘telegram’, ‘rsyslog’, ‘txtq’, ‘botor’, ‘R.utils’, ‘syslognet’, ‘kableExtra’, ‘formatters’, ‘mstate’, ‘demography’, ‘popEpi’, ‘combinat’, ‘DoE.wrapper’, ‘FrF2.catlg128’, ‘BsMD’, ‘leaflet.extras2’, ‘leafsync’, ‘mapdeck’, ‘plainview’, ‘poorman’, ‘s2’, ‘dbplyr’, ‘spatstat.data’, ‘spatstat.univar’, ‘spatstat.explore’, ‘spatstat.model’, ‘spatial’, ‘fftwtools’, ‘gsl’, ‘goftest’, ‘PCICt’, ‘RNetCDF’, ‘cubble’, ‘cubelyr’, ‘ncdfgeom’, ‘ncmeta’, ‘spacetime’, ‘tsibble’, ‘rmapshaper’, ‘cartogram’, ‘osmdata’, ‘fastmatch’, ‘arulesViz’, ‘arulesCBA’, ‘biclust’, ‘cba’, ‘corrplot’, ‘fBasics’, ‘ggdendro’, ‘janitor’, ‘psych’, ‘RODBC’, ‘SnowballC’, ‘dfidx’, ‘ks’, ‘maxLik’, ‘sem’, ‘directlabels’, ‘Rsolnp’, ‘nloptr’, ‘sirt’, ‘plink’, ‘mirtCAT’, ‘rchallenge’, ‘brms’, ‘GLMMadaptive’, ‘MCMCglmm’, ‘mediation’, ‘posterior’, ‘rstanarm’, ‘rstantools’, ‘R2jags’, ‘TMB’, ‘carrier’, ‘BIFIEsurvey’, ‘CDM’, ‘inline’, ‘MBESS’, ‘mdmb’, ‘sjlabelled’, ‘synthpop’, ‘TAM’, ‘mitools’, ‘StanHeaders’, ‘shinystan’, ‘bayesplot’, ‘lattice’, ‘formula.tools’, ‘round’, ‘emdbook’, ‘AICcmodavg’, ‘wdm’, ‘cobs’, ‘evd’, ‘mvPot’, ‘gmm’, ‘revdbayes’, ‘ismev’, ‘TruncatedNormal’, ‘TSP’, ‘kdecopula’, ‘dygraphs’, ‘quantmod’, ‘RPESE’, ‘RobStatTM’, ‘setRNG’, ‘BB’, ‘ucminf’, ‘minqa’, ‘lbfgsb3c’, ‘lbfgs’, ‘marqLevAlg’, ‘tweedie’, ‘msm’, ‘pglm’, ‘splm’, ‘cubature’, ‘alpaca’, ‘candisc’, ‘corrgram’, ‘animation’, ‘mvinfluence’, ‘rrcov’, ‘archdata’, ‘qqtest’, ‘lqmm’, ‘rlme’, ‘lemon’, ‘ggh4x’, ‘robustvarComp’, ‘tkrplot’, ‘alphahull’, ‘fontcm’, ‘showimage’, ‘nanotime’, ‘OpenMx’, ‘tidySEM’, ‘faraway’, ‘scdhlm’, ‘ssanv’, ‘Exact’, ‘BlakerCI’, ‘qvcalc’, ‘glmmML’, ‘mgcViz’, ‘spaMM’, ‘flextable’, ‘ftExtra’, ‘officer’, ‘quarto’, ‘expint’, ‘Ecfun’, ‘wooldridge’, ‘RcppZiggurat’, ‘lifecycle’, ‘rnaturalearthdata’, ‘NLP’, ‘antiword’, ‘filehash’, ‘Rpoppler’, ‘constructive’, ‘whoami’, ‘DRR’, ‘NMF’, ‘cccd’, ‘coRanking’, ‘diffusionMap’, ‘energy’, ‘pcaL1’, ‘pcaPP’, ‘flexsurvcure’, ‘survminer’, ‘eha’, ‘tune’, ‘gmodels’, ‘Fahrmeir’, ‘VGAM’, ‘seriation’, ‘ggbeeswarm’, ‘ggridges’, ‘ggpp’, ‘patchwork’, ‘arrow’, ‘janeaustenr’, ‘r2d3’, ‘webp’, ‘tesseract’, ‘AmesHousing’, ‘ICEbox’, ‘hexbin’, ‘mapproj’, ‘eaf’, ‘GGally’, ‘lhs’, ‘debugme’, ‘doMPI’, ‘future.batchtools’, ‘parallelMap’, ‘snow’, ‘truncnorm’, ‘hdi’, ‘R.rsp’, ‘gdata’, ‘corpcor’, ‘crossval’, ‘lpSolve’, ‘quadprog’, ‘relations’, ‘OpenImageR’, ‘FD’, ‘Cairo’, ‘gridGraphics’, ‘magick’, ‘PASWR’, ‘VennDiagram’, ‘logspline’, ‘fda’, ‘fields’, ‘mapdata’, ‘chemometrics’, ‘forecTheta’, ‘rticles’, ‘seasonal’, ‘uroot’, ‘tclust’, ‘pdfCluster’, ‘entropy’, ‘pbapply’, ‘ggplot2’, ‘slam’, ‘plot3Drgl’, ‘plotly’, ‘DiceOptim’, ‘bookdown’, ‘patrick’, ‘tufte’, ‘stabs’, ‘BayesX’, ‘kangar00’, ‘mldr.datasets’, ‘cmaesr’, ‘sylly’, ‘sylly.en’, ‘logger’, ‘descr’, ‘tables’, ‘reshape’, ‘memisc’, ‘Epi’, ‘cmprsk’, ‘pwr’, ‘NSM3’, ‘Vdgraph’, ‘conf.design’, ‘DoE.base’, ‘FrF2’, ‘NeuralNetTools’, ‘dtw’, ‘rbenchmark’, ‘fdrtool’, ‘nanoarrow’, ‘lwgeom’, ‘mapview’, ‘odbc’, ‘pool’, ‘RPostgres’, ‘spatstat’, ‘spatstat.geom’, ‘spatstat.random’, ‘spatstat.linnet’, ‘spatstat.utils’, ‘stars’, ‘tmap’, ‘wk’, ‘checkmate’, ‘plot3D’, ‘fontquiver’, ‘Mcomp’, ‘amap’, ‘arules’, ‘neighbr’, ‘rattle’, ‘fGarch’, ‘ineq’, ‘longmemo’, ‘mlogit’, ‘np’, ‘rugarch’, ‘sampleSelection’, ‘systemfit’, ‘truncreg’, ‘urca’, ‘vars’, ‘likert’, ‘mirt’, ‘stablelearner’, ‘betareg’, ‘lmerTest’, ‘broom.mixed’, ‘furrr’, ‘miceadds’, ‘pan’, ‘rstan’, ‘polyclip’, ‘ncdf4’, ‘leaflet’, ‘rasterVis’, ‘exactextractr’, ‘openxlsx’, ‘qpdf’, ‘RJSONIO’, ‘tth’, ‘gmp’, ‘Bessel’, ‘polynom’, ‘rngWELL’, ‘bbmle’, ‘abind’, ‘crop’, ‘lcopula’, ‘mev’, ‘mvnormtest’, ‘partitions’, ‘Runuran’, ‘VineCopula’, ‘PerformanceAnalytics’, ‘fTrading’, ‘MEMSS’, ‘mlmRev’, ‘optimx’, ‘gamm4’, ‘dfoptim’, ‘statmod’, ‘rr2’, ‘semEff’, ‘pder’, ‘texreg’, ‘lfe’, ‘MCMCpack’, ‘bdsmatrix’, ‘kinship2’, ‘poLCA’, ‘heplots’, ‘robustlmm’, ‘biglm’, ‘markdown’, ‘orientlib’, ‘misc3d’, ‘tripack’, ‘alphashape3d’, ‘js’, ‘webshot2’, ‘extrafont’, ‘manipulateWidget’, ‘crosstalk’, ‘V8’, ‘chromote’, ‘jpeg’, ‘fst’, ‘hexView’, ‘pzfx’, ‘readODS’, ‘rmatio’, ‘qs’, ‘basefun’, ‘variables’, ‘nor1mix’, ‘conquer’, ‘nonnest2’, ‘lavaan’, ‘lmeInfo’, ‘exact2x2’, ‘exactci’, ‘bpcp’, ‘bootstrap’, ‘gamlss.dist’, ‘distributions3’, ‘robust’, ‘fit.models’, ‘MPV’, ‘catdata’, ‘skewt’, ‘DHARMa’, ‘dotwhisker’, ‘huxtable’, ‘mvabund’, ‘blme’, ‘expm’, ‘diptest’, ‘Ecdat’, ‘gclus’, ‘SuppDists’, ‘geoR’, ‘rnaturalearth’, ‘mix’, ‘tm’, ‘googleVis’, ‘DBItest’, ‘repurrrsive’, ‘lokern’, ‘R.matlab’, ‘pkgKitten’, ‘clisymbols’, ‘clustMixType’, ‘dbarts’, ‘dimRed’, ‘flexsurv’, ‘nestedmodels’, ‘QSARdata’, ‘logmult’, ‘vcdExtra’, ‘bench’, ‘ggrepel’, ‘kknn’, ‘LiblineaR’, ‘sparklyr’, ‘pdftools’, ‘pdp’, ‘tinytest’, ‘viridis’, ‘lars’, ‘doParallel’, ‘ParamHelpers’, ‘ada’, ‘adabag’, ‘batchtools’, ‘brnn’, ‘bst’, ‘care’, ‘clue’, ‘cluster’, ‘ClusterR’, ‘clusterSim’, ‘cmaes’, ‘cowplot’, ‘crs’, ‘deepnet’, ‘DiceKriging’, ‘elasticnet’, ‘emoa’, ‘evtree’, ‘fda.usc’, ‘FDboost’, ‘FNN’, ‘forecast’, ‘fpc’, ‘frbs’, ‘FSelector’, ‘FSelectorRcpp’, ‘GenSA’, ‘ggpubr’, ‘GPfit’, ‘h2o’, ‘irace’, ‘laGP’, ‘lintr’, ‘mboost’, ‘mco’, ‘mldr’, ‘mlrMBO’, ‘mRMRe’, ‘pander’, ‘pec’, ‘penalized’, ‘PMCMRplus’, ‘praznik’, ‘refund’, ‘rex’, ‘rFerns’, ‘rgenoud’, ‘ROCR’, ‘rotationForest’, ‘RRF’, ‘rsm’, ‘RSNNS’, ‘rucrdtw’, ‘RWeka’, ‘sda’, ‘sf’, ‘smoof’, ‘sparseLDA’, ‘stepPlr’, ‘survAUC’, ‘svglite’, ‘tgp’, ‘tsfeatures’, ‘vdiffr’, ‘wavelets’, ‘libcoin’, ‘pmml’, ‘rJava’, ‘AER’, ‘psychotools’, ‘psychotree’, ‘glmertree’, ‘mice’, ‘shape’, ‘gstat’, ‘deldir’, ‘terra’, ‘raster’, ‘exams’, ‘unix’, ‘Rmpfr’, ‘egg’, ‘spacefillr’, ‘randtoolbox’, ‘copula’, ‘coda’, ‘chron’, ‘mondate’, ‘stinepack’, ‘timeSeries’, ‘tis’, ‘xts’, ‘geepack’, ‘lme4’, ‘multiwayvcov’, ‘pcse’, ‘plm’, ‘pscl’, ‘carData’, ‘alr4’, ‘boot’, ‘coxme’, ‘effects’, ‘leaps’, ‘MatrixModels’, ‘rgl’, ‘rio’, ‘SparseM’, ‘TSA’, ‘mlt’, ‘quantreg’, ‘merDeriv’, ‘SparseGrid’, ‘alabama’, ‘latticeExtra’, ‘ordinalCont’, ‘mlt.docreg’, ‘ordinal’, ‘asht’, ‘gamlss’, ‘robustbase’, ‘foreign’, ‘SimComp’, ‘ISwR’, ‘fixest’, ‘glmmTMB’, ‘ape’, ‘flexmix’, ‘gamair’, ‘gamlss.data’, ‘gee’, ‘maps’, ‘mclust’, ‘rmeta’, ‘wordcloud’, ‘HSAUR2’, ‘bitops’, ‘RCurl’, ‘Lahman’, ‘lobstr’, ‘microbenchmark’, ‘nycflights13’, ‘RMySQL’, ‘RPostgreSQL’, ‘RSQLite’, ‘tidyr’, ‘sfsmisc’, ‘geometry’, ‘decor’, ‘igraphdata’, ‘prettydoc’, ‘RcppArmadillo’, ‘butcher’, ‘dichromat’, ‘diffviewer’, ‘gnm’, ‘testit’, ‘parsnip’, ‘C50’, ‘spelling’, ‘xrf’, ‘plotrix’, ‘gbm’, ‘glmnet’, ‘glmnetUtils’, ‘mlr’, ‘neuralnet’, ‘partykit’, ‘pre’, ‘rpart.plot’, ‘sp’, ‘Deriv’, ‘Ryacas’, ‘gridExtra’, ‘qrng’, ‘zoo’, ‘sandwich’, ‘car’, ‘dynlm’, ‘lmtest’, ‘tseries’, ‘trtf’, ‘tram’, ‘coin’, ‘ATR’, ‘multcomp’, ‘HSAUR3’, ‘measures’, ‘ranger’, ‘XML’, ‘dplyr’, ‘ddalpha’, ‘igraph’, ‘RcppRoll’, ‘rsample’, ‘RSpectra’, ‘splines2’, ‘workflows’, ‘scales’, ‘testthat’, ‘prefmod’, ‘DT’, ‘mockery’, ‘modeldata’, ‘rules’, ‘Formula’, ‘plotmo’, ‘interp’, ‘scatterplot3d’, ‘som’, ‘mvtnorm’, ‘modeltools’, ‘strucchange’, ‘TH.data’, ‘vcd’, ‘varImp’, ‘Rmpi’, ‘RUnit’, ‘recipes’, ‘dials’, ‘BradleyTerry2’, ‘covr’, ‘Cubist’, ‘earth’, ‘fastICA’, ‘gam’, ‘klaR’, ‘mda’, ‘mlbench’, ‘MLmetrics’, ‘pamr’, ‘party’, ‘pls’, ‘RANN’, ‘spls’, ‘subselect’, ‘superpc’, ‘themis’\n",
      "\n",
      "\n"
     ]
    }
   ],
   "source": [
    "install.packages(\"caret\", dependencies=c(\"Depends\", \"Suggests\"))"
   ]
  },
  {
   "cell_type": "code",
   "execution_count": null,
   "id": "3bb8ef3d-e57f-430c-b745-4676bbc31de9",
   "metadata": {},
   "outputs": [],
   "source": [
    "library(caret)"
   ]
  },
  {
   "cell_type": "markdown",
   "id": "ed424eae-f328-42bd-9917-127025839fd4",
   "metadata": {},
   "source": [
    "# Attach the iris dataset to the environment"
   ]
  },
  {
   "cell_type": "code",
   "execution_count": null,
   "id": "109b3748-3d78-436f-a300-7c001e447539",
   "metadata": {},
   "outputs": [],
   "source": [
    "data(iris)"
   ]
  },
  {
   "cell_type": "markdown",
   "id": "ccf312ee-1430-4ad6-935b-238cb03c3376",
   "metadata": {},
   "source": [
    "# Rename the dataset"
   ]
  },
  {
   "cell_type": "code",
   "execution_count": null,
   "id": "50909ea6-d52f-4698-a026-1ef12de9bbbe",
   "metadata": {},
   "outputs": [],
   "source": [
    "dataset <- iris"
   ]
  }
 ],
 "metadata": {
  "kernelspec": {
   "display_name": "R",
   "language": "R",
   "name": "ir"
  },
  "language_info": {
   "codemirror_mode": "r",
   "file_extension": ".r",
   "mimetype": "text/x-r-source",
   "name": "R",
   "pygments_lexer": "r",
   "version": "4.0.5"
  }
 },
 "nbformat": 4,
 "nbformat_minor": 5
}
