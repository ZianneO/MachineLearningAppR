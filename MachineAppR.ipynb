{
 "cells": [
  {
   "cell_type": "markdown",
   "id": "8c3dbf03-e772-40c3-b56a-2438ab5947b3",
   "metadata": {},
   "source": [
    "# Machine Learning App R\n",
    "## Zianne Olverson"
   ]
  },
  {
   "cell_type": "code",
   "execution_count": 1,
   "id": "2343aea0-2f57-458c-a718-26f48fcdf92b",
   "metadata": {},
   "outputs": [
    {
     "name": "stderr",
     "output_type": "stream",
     "text": [
      "Updating HTML index of packages in '.Library'\n",
      "\n",
      "Making 'packages.html' ...\n",
      " done\n",
      "\n"
     ]
    }
   ],
   "source": [
    "install.packages(\"caret\")"
   ]
  },
  {
   "cell_type": "code",
   "execution_count": 12,
   "id": "89d5ef57-44b6-4fed-80d4-0a1f805c75fe",
   "metadata": {},
   "outputs": [
    {
     "name": "stderr",
     "output_type": "stream",
     "text": [
      "Updating HTML index of packages in '.Library'\n",
      "\n",
      "Making 'packages.html' ...\n",
      " done\n",
      "\n",
      "Updating HTML index of packages in '.Library'\n",
      "\n",
      "Making 'packages.html' ...\n",
      " done\n",
      "\n",
      "Updating HTML index of packages in '.Library'\n",
      "\n",
      "Making 'packages.html' ...\n",
      " done\n",
      "\n",
      "also installing the dependencies ‘labelled’, ‘questionr’\n",
      "\n",
      "\n",
      "Warning message in install.packages(\"klaR\"):\n",
      "“installation of package ‘labelled’ had non-zero exit status”\n",
      "Warning message in install.packages(\"klaR\"):\n",
      "“installation of package ‘questionr’ had non-zero exit status”\n",
      "Warning message in install.packages(\"klaR\"):\n",
      "“installation of package ‘klaR’ had non-zero exit status”\n",
      "Updating HTML index of packages in '.Library'\n",
      "\n",
      "Making 'packages.html' ...\n",
      " done\n",
      "\n",
      "Updating HTML index of packages in '.Library'\n",
      "\n",
      "Making 'packages.html' ...\n",
      " done\n",
      "\n",
      "Updating HTML index of packages in '.Library'\n",
      "\n",
      "Making 'packages.html' ...\n",
      " done\n",
      "\n"
     ]
    }
   ],
   "source": [
    "install.packages(\"ggplot2\")\n",
    "install.packages(\"lattice\")\n",
    "install.packages(\"e1071\")\n",
    "install.packages(\"klaR\")\n",
    "install.packages(\"rpart\")\n",
    "install.packages(\"nnet\")"
   ]
  },
  {
   "cell_type": "code",
   "execution_count": 13,
   "id": "2b459000-d9e6-4d92-b4a5-46c30982c8a6",
   "metadata": {},
   "outputs": [
    {
     "name": "stderr",
     "output_type": "stream",
     "text": [
      "Warning message:\n",
      "“package ‘randomForest’ is not available for this version of R\n",
      "‘randomForest’ version 4.7-1.1 is in the repositories but depends on R (>= 4.1.0)\n",
      "\n",
      "A version of this package for your version of R might be available elsewhere,\n",
      "see the ideas at\n",
      "https://cran.r-project.org/doc/manuals/r-patched/R-admin.html#Installing-packages”\n"
     ]
    }
   ],
   "source": [
    "install.packages(\"randomForest\")"
   ]
  },
  {
   "cell_type": "code",
   "execution_count": 14,
   "id": "ed822d6d-6d81-4992-bca5-76c577ed35ab",
   "metadata": {},
   "outputs": [
    {
     "name": "stderr",
     "output_type": "stream",
     "text": [
      "Warning message in install.packages(\"labelled\"):\n",
      "“installation of package ‘labelled’ had non-zero exit status”\n",
      "Updating HTML index of packages in '.Library'\n",
      "\n",
      "Making 'packages.html' ...\n",
      " done\n",
      "\n",
      "also installing the dependency ‘labelled’\n",
      "\n",
      "\n",
      "Warning message in install.packages(\"questionr\"):\n",
      "“installation of package ‘labelled’ had non-zero exit status”\n",
      "Warning message in install.packages(\"questionr\"):\n",
      "“installation of package ‘questionr’ had non-zero exit status”\n",
      "Updating HTML index of packages in '.Library'\n",
      "\n",
      "Making 'packages.html' ...\n",
      " done\n",
      "\n"
     ]
    }
   ],
   "source": [
    "install.packages(\"labelled\")\n",
    "install.packages(\"questionr\")"
   ]
  },
  {
   "cell_type": "code",
   "execution_count": 15,
   "id": "b17aaf99-09dc-45b3-9517-d089c8d6d509",
   "metadata": {},
   "outputs": [
    {
     "name": "stderr",
     "output_type": "stream",
     "text": [
      "Warning message in install.packages(\"ranger\"):\n",
      "“installation of package ‘ranger’ had non-zero exit status”\n",
      "Updating HTML index of packages in '.Library'\n",
      "\n",
      "Making 'packages.html' ...\n",
      " done\n",
      "\n"
     ]
    }
   ],
   "source": [
    "install.packages(\"ranger\")"
   ]
  },
  {
   "cell_type": "code",
   "execution_count": 16,
   "id": "9c26af0c-9660-400e-bf52-074a8e228159",
   "metadata": {},
   "outputs": [
    {
     "name": "stderr",
     "output_type": "stream",
     "text": [
      "also installing the dependencies ‘labelled’, ‘questionr’\n",
      "\n",
      "\n",
      "Warning message in install.packages(\"klaR\"):\n",
      "“installation of package ‘labelled’ had non-zero exit status”\n",
      "Warning message in install.packages(\"klaR\"):\n",
      "“installation of package ‘questionr’ had non-zero exit status”\n",
      "Warning message in install.packages(\"klaR\"):\n",
      "“installation of package ‘klaR’ had non-zero exit status”\n",
      "Updating HTML index of packages in '.Library'\n",
      "\n",
      "Making 'packages.html' ...\n",
      " done\n",
      "\n"
     ]
    }
   ],
   "source": [
    "install.packages(\"klaR\")"
   ]
  },
  {
   "cell_type": "code",
   "execution_count": 17,
   "id": "99afb2cf-526e-4412-8851-ba691201e6a5",
   "metadata": {},
   "outputs": [
    {
     "name": "stderr",
     "output_type": "stream",
     "text": [
      "randomForest 4.6-14\n",
      "\n",
      "Type rfNews() to see new features/changes/bug fixes.\n",
      "\n",
      "\n",
      "Attaching package: ‘randomForest’\n",
      "\n",
      "\n",
      "The following object is masked from ‘package:ggplot2’:\n",
      "\n",
      "    margin\n",
      "\n",
      "\n"
     ]
    },
    {
     "ename": "ERROR",
     "evalue": "Error in library(klaR): there is no package called ‘klaR’\n",
     "output_type": "error",
     "traceback": [
      "Error in library(klaR): there is no package called ‘klaR’\nTraceback:\n",
      "1. library(klaR)"
     ]
    }
   ],
   "source": [
    "library(ggplot2)\n",
    "library(lattice)\n",
    "library(e1071)\n",
    "library(randomForest)\n",
    "library(klaR)\n",
    "library(rpart)\n",
    "library(nnet)"
   ]
  },
  {
   "cell_type": "code",
   "execution_count": 18,
   "id": "3bb8ef3d-e57f-430c-b745-4676bbc31de9",
   "metadata": {},
   "outputs": [],
   "source": [
    "library(caret)"
   ]
  },
  {
   "cell_type": "markdown",
   "id": "ed424eae-f328-42bd-9917-127025839fd4",
   "metadata": {},
   "source": [
    "# Attach the iris dataset to the environment"
   ]
  },
  {
   "cell_type": "code",
   "execution_count": 54,
   "id": "109b3748-3d78-436f-a300-7c001e447539",
   "metadata": {},
   "outputs": [],
   "source": [
    "data(iris)\n",
    "dataset <- iris"
   ]
  },
  {
   "cell_type": "markdown",
   "id": "48b389fb-937a-4f4c-a74a-416d9a06e9a9",
   "metadata": {},
   "source": [
    "# Defining the filename"
   ]
  },
  {
   "cell_type": "code",
   "execution_count": 55,
   "id": "973936cc-f648-4f2f-b31b-858d1768cbe8",
   "metadata": {},
   "outputs": [],
   "source": [
    "filename <- \"iris.csv\""
   ]
  },
  {
   "cell_type": "markdown",
   "id": "df6349af-a411-4dff-acb5-c187030ff390",
   "metadata": {},
   "source": [
    "# Load the CSV file from the local directory"
   ]
  },
  {
   "cell_type": "code",
   "execution_count": 56,
   "id": "a0ee2016-d2fc-41f4-a955-07ab5e88fd28",
   "metadata": {},
   "outputs": [],
   "source": [
    "dataset <- read.csv(filename, header=FALSE)"
   ]
  },
  {
   "cell_type": "markdown",
   "id": "4d8c3a03-ff09-457c-9c0c-6b7e8742d82e",
   "metadata": {},
   "source": [
    "# Setting the column names in the dataset"
   ]
  },
  {
   "cell_type": "code",
   "execution_count": 57,
   "id": "791a4b23-73f5-4513-8cec-dc1f7a491916",
   "metadata": {},
   "outputs": [],
   "source": [
    "colnames(dataset) <- c(\"Sepal.Length\",\"Sepal.Width\",\"Petal.Length\",\"Petal.Width\",\"Species\")"
   ]
  },
  {
   "cell_type": "markdown",
   "id": "98aabaef-0097-413a-b29e-d8cccbbdc718",
   "metadata": {},
   "source": [
    "# Creating validation"
   ]
  },
  {
   "cell_type": "markdown",
   "id": "0726d83b-84b9-4141-9727-2c10d9c14ba2",
   "metadata": {},
   "source": [
    "# Creating a list of 80% of the rows in the original dataset to be used for training"
   ]
  },
  {
   "cell_type": "code",
   "execution_count": 58,
   "id": "57f35d1b-8595-4149-b2c9-bc7d00b78c50",
   "metadata": {},
   "outputs": [],
   "source": [
    "validation_index <- createDataPartition(dataset$Species, p=0.80, list=FALSE)"
   ]
  },
  {
   "cell_type": "markdown",
   "id": "4f6a36f5-493c-493c-8c5d-41d5559e352d",
   "metadata": {},
   "source": [
    "# Select 20% of the data for validation"
   ]
  },
  {
   "cell_type": "code",
   "execution_count": 59,
   "id": "522a0d9c-6357-4dc5-9751-fff69b06de27",
   "metadata": {},
   "outputs": [],
   "source": [
    "validation <- dataset[-validation_index,]"
   ]
  },
  {
   "cell_type": "markdown",
   "id": "52306629-9da7-4cfa-b16a-76ac8994624b",
   "metadata": {},
   "source": [
    "# Using the remaining 80% of data to training and testing the models"
   ]
  },
  {
   "cell_type": "code",
   "execution_count": 60,
   "id": "d94b272b-0cf7-46ab-b4a1-c30097c9ceec",
   "metadata": {},
   "outputs": [],
   "source": [
    "dataset <- dataset[validation_index,]"
   ]
  },
  {
   "cell_type": "markdown",
   "id": "39709480-9045-4628-8b36-5d669a4fda93",
   "metadata": {},
   "source": [
    "# Data dimensions"
   ]
  },
  {
   "cell_type": "code",
   "execution_count": 61,
   "id": "ec201de3-90ad-4a8d-acd8-97df016727fd",
   "metadata": {},
   "outputs": [
    {
     "data": {
      "text/html": [
       "<style>\n",
       ".list-inline {list-style: none; margin:0; padding: 0}\n",
       ".list-inline>li {display: inline-block}\n",
       ".list-inline>li:not(:last-child)::after {content: \"\\00b7\"; padding: 0 .5ex}\n",
       "</style>\n",
       "<ol class=list-inline><li>120</li><li>5</li></ol>\n"
      ],
      "text/latex": [
       "\\begin{enumerate*}\n",
       "\\item 120\n",
       "\\item 5\n",
       "\\end{enumerate*}\n"
      ],
      "text/markdown": [
       "1. 120\n",
       "2. 5\n",
       "\n",
       "\n"
      ],
      "text/plain": [
       "[1] 120   5"
      ]
     },
     "metadata": {},
     "output_type": "display_data"
    }
   ],
   "source": [
    "dim(dataset)"
   ]
  },
  {
   "cell_type": "markdown",
   "id": "4982b0fb-6250-485b-8f23-39b0d913c111",
   "metadata": {},
   "source": [
    "# Listing types for each attribute"
   ]
  },
  {
   "cell_type": "code",
   "execution_count": 62,
   "id": "a9668c99-eb71-4b3d-9f85-9be380eafd51",
   "metadata": {},
   "outputs": [
    {
     "data": {
      "text/html": [
       "<style>\n",
       ".dl-inline {width: auto; margin:0; padding: 0}\n",
       ".dl-inline>dt, .dl-inline>dd {float: none; width: auto; display: inline-block}\n",
       ".dl-inline>dt::after {content: \":\\0020\"; padding-right: .5ex}\n",
       ".dl-inline>dt:not(:first-of-type) {padding-left: .5ex}\n",
       "</style><dl class=dl-inline><dt>Sepal.Length</dt><dd>'numeric'</dd><dt>Sepal.Width</dt><dd>'numeric'</dd><dt>Petal.Length</dt><dd>'numeric'</dd><dt>Petal.Width</dt><dd>'numeric'</dd><dt>Species</dt><dd>'character'</dd></dl>\n"
      ],
      "text/latex": [
       "\\begin{description*}\n",
       "\\item[Sepal.Length] 'numeric'\n",
       "\\item[Sepal.Width] 'numeric'\n",
       "\\item[Petal.Length] 'numeric'\n",
       "\\item[Petal.Width] 'numeric'\n",
       "\\item[Species] 'character'\n",
       "\\end{description*}\n"
      ],
      "text/markdown": [
       "Sepal.Length\n",
       ":   'numeric'Sepal.Width\n",
       ":   'numeric'Petal.Length\n",
       ":   'numeric'Petal.Width\n",
       ":   'numeric'Species\n",
       ":   'character'\n",
       "\n"
      ],
      "text/plain": [
       "Sepal.Length  Sepal.Width Petal.Length  Petal.Width      Species \n",
       "   \"numeric\"    \"numeric\"    \"numeric\"    \"numeric\"  \"character\" "
      ]
     },
     "metadata": {},
     "output_type": "display_data"
    }
   ],
   "source": [
    "sapply(dataset, class)"
   ]
  },
  {
   "cell_type": "markdown",
   "id": "c419223a-2822-4168-867d-eaeb67b34300",
   "metadata": {},
   "source": [
    "# First 5 rows of the data"
   ]
  },
  {
   "cell_type": "code",
   "execution_count": 63,
   "id": "ca8c2eb2-cccc-4096-9de5-add0a0cae1e8",
   "metadata": {},
   "outputs": [
    {
     "data": {
      "text/html": [
       "<table class=\"dataframe\">\n",
       "<caption>A data.frame: 6 × 5</caption>\n",
       "<thead>\n",
       "\t<tr><th></th><th scope=col>Sepal.Length</th><th scope=col>Sepal.Width</th><th scope=col>Petal.Length</th><th scope=col>Petal.Width</th><th scope=col>Species</th></tr>\n",
       "\t<tr><th></th><th scope=col>&lt;dbl&gt;</th><th scope=col>&lt;dbl&gt;</th><th scope=col>&lt;dbl&gt;</th><th scope=col>&lt;dbl&gt;</th><th scope=col>&lt;chr&gt;</th></tr>\n",
       "</thead>\n",
       "<tbody>\n",
       "\t<tr><th scope=row>1</th><td>5.1</td><td>3.5</td><td>1.4</td><td>0.2</td><td>Iris-setosa</td></tr>\n",
       "\t<tr><th scope=row>2</th><td>4.9</td><td>3.0</td><td>1.4</td><td>0.2</td><td>Iris-setosa</td></tr>\n",
       "\t<tr><th scope=row>3</th><td>4.7</td><td>3.2</td><td>1.3</td><td>0.2</td><td>Iris-setosa</td></tr>\n",
       "\t<tr><th scope=row>4</th><td>4.6</td><td>3.1</td><td>1.5</td><td>0.2</td><td>Iris-setosa</td></tr>\n",
       "\t<tr><th scope=row>6</th><td>5.4</td><td>3.9</td><td>1.7</td><td>0.4</td><td>Iris-setosa</td></tr>\n",
       "\t<tr><th scope=row>7</th><td>4.6</td><td>3.4</td><td>1.4</td><td>0.3</td><td>Iris-setosa</td></tr>\n",
       "</tbody>\n",
       "</table>\n"
      ],
      "text/latex": [
       "A data.frame: 6 × 5\n",
       "\\begin{tabular}{r|lllll}\n",
       "  & Sepal.Length & Sepal.Width & Petal.Length & Petal.Width & Species\\\\\n",
       "  & <dbl> & <dbl> & <dbl> & <dbl> & <chr>\\\\\n",
       "\\hline\n",
       "\t1 & 5.1 & 3.5 & 1.4 & 0.2 & Iris-setosa\\\\\n",
       "\t2 & 4.9 & 3.0 & 1.4 & 0.2 & Iris-setosa\\\\\n",
       "\t3 & 4.7 & 3.2 & 1.3 & 0.2 & Iris-setosa\\\\\n",
       "\t4 & 4.6 & 3.1 & 1.5 & 0.2 & Iris-setosa\\\\\n",
       "\t6 & 5.4 & 3.9 & 1.7 & 0.4 & Iris-setosa\\\\\n",
       "\t7 & 4.6 & 3.4 & 1.4 & 0.3 & Iris-setosa\\\\\n",
       "\\end{tabular}\n"
      ],
      "text/markdown": [
       "\n",
       "A data.frame: 6 × 5\n",
       "\n",
       "| <!--/--> | Sepal.Length &lt;dbl&gt; | Sepal.Width &lt;dbl&gt; | Petal.Length &lt;dbl&gt; | Petal.Width &lt;dbl&gt; | Species &lt;chr&gt; |\n",
       "|---|---|---|---|---|---|\n",
       "| 1 | 5.1 | 3.5 | 1.4 | 0.2 | Iris-setosa |\n",
       "| 2 | 4.9 | 3.0 | 1.4 | 0.2 | Iris-setosa |\n",
       "| 3 | 4.7 | 3.2 | 1.3 | 0.2 | Iris-setosa |\n",
       "| 4 | 4.6 | 3.1 | 1.5 | 0.2 | Iris-setosa |\n",
       "| 6 | 5.4 | 3.9 | 1.7 | 0.4 | Iris-setosa |\n",
       "| 7 | 4.6 | 3.4 | 1.4 | 0.3 | Iris-setosa |\n",
       "\n"
      ],
      "text/plain": [
       "  Sepal.Length Sepal.Width Petal.Length Petal.Width Species    \n",
       "1 5.1          3.5         1.4          0.2         Iris-setosa\n",
       "2 4.9          3.0         1.4          0.2         Iris-setosa\n",
       "3 4.7          3.2         1.3          0.2         Iris-setosa\n",
       "4 4.6          3.1         1.5          0.2         Iris-setosa\n",
       "6 5.4          3.9         1.7          0.4         Iris-setosa\n",
       "7 4.6          3.4         1.4          0.3         Iris-setosa"
      ]
     },
     "metadata": {},
     "output_type": "display_data"
    }
   ],
   "source": [
    "head(dataset)"
   ]
  },
  {
   "cell_type": "markdown",
   "id": "75e40fcd-d11d-4b0d-8be2-940726420d38",
   "metadata": {},
   "source": [
    "# Listing the levels for the class"
   ]
  },
  {
   "cell_type": "code",
   "execution_count": 70,
   "id": "65a01cd2-e65c-44a2-9238-107465c7fe2d",
   "metadata": {},
   "outputs": [
    {
     "name": "stdout",
     "output_type": "stream",
     "text": [
      " Factor w/ 3 levels \"Iris-setosa\",..: 1 1 1 1 1 1 1 1 1 1 ...\n"
     ]
    },
    {
     "data": {
      "text/html": [
       "'factor'"
      ],
      "text/latex": [
       "'factor'"
      ],
      "text/markdown": [
       "'factor'"
      ],
      "text/plain": [
       "[1] \"factor\""
      ]
     },
     "metadata": {},
     "output_type": "display_data"
    },
    {
     "data": {
      "text/html": [
       "<style>\n",
       ".list-inline {list-style: none; margin:0; padding: 0}\n",
       ".list-inline>li {display: inline-block}\n",
       ".list-inline>li:not(:last-child)::after {content: \"\\00b7\"; padding: 0 .5ex}\n",
       "</style>\n",
       "<ol class=list-inline><li>'Iris-setosa'</li><li>'Iris-versicolor'</li><li>'Iris-virginica'</li></ol>\n"
      ],
      "text/latex": [
       "\\begin{enumerate*}\n",
       "\\item 'Iris-setosa'\n",
       "\\item 'Iris-versicolor'\n",
       "\\item 'Iris-virginica'\n",
       "\\end{enumerate*}\n"
      ],
      "text/markdown": [
       "1. 'Iris-setosa'\n",
       "2. 'Iris-versicolor'\n",
       "3. 'Iris-virginica'\n",
       "\n",
       "\n"
      ],
      "text/plain": [
       "[1] \"Iris-setosa\"     \"Iris-versicolor\" \"Iris-virginica\" "
      ]
     },
     "metadata": {},
     "output_type": "display_data"
    }
   ],
   "source": [
    "str(dataset$Species)\n",
    "class(dataset$Species)\n",
    "dataset$Species <- as.factor(dataset$Species)\n",
    "levels(dataset$Species)"
   ]
  },
  {
   "cell_type": "markdown",
   "id": "0cb68a4f-bc15-41b2-b702-f75a7efe9c54",
   "metadata": {},
   "source": [
    "# Summarization of class distribution"
   ]
  },
  {
   "cell_type": "code",
   "execution_count": 66,
   "id": "3643d974-e78a-45c8-a2b2-d8314a89daf9",
   "metadata": {},
   "outputs": [
    {
     "data": {
      "text/html": [
       "<table class=\"dataframe\">\n",
       "<caption>A matrix: 3 × 2 of type dbl</caption>\n",
       "<thead>\n",
       "\t<tr><th></th><th scope=col>freq</th><th scope=col>percentage</th></tr>\n",
       "</thead>\n",
       "<tbody>\n",
       "\t<tr><th scope=row>Iris-setosa</th><td>40</td><td>33.33333</td></tr>\n",
       "\t<tr><th scope=row>Iris-versicolor</th><td>40</td><td>33.33333</td></tr>\n",
       "\t<tr><th scope=row>Iris-virginica</th><td>40</td><td>33.33333</td></tr>\n",
       "</tbody>\n",
       "</table>\n"
      ],
      "text/latex": [
       "A matrix: 3 × 2 of type dbl\n",
       "\\begin{tabular}{r|ll}\n",
       "  & freq & percentage\\\\\n",
       "\\hline\n",
       "\tIris-setosa & 40 & 33.33333\\\\\n",
       "\tIris-versicolor & 40 & 33.33333\\\\\n",
       "\tIris-virginica & 40 & 33.33333\\\\\n",
       "\\end{tabular}\n"
      ],
      "text/markdown": [
       "\n",
       "A matrix: 3 × 2 of type dbl\n",
       "\n",
       "| <!--/--> | freq | percentage |\n",
       "|---|---|---|\n",
       "| Iris-setosa | 40 | 33.33333 |\n",
       "| Iris-versicolor | 40 | 33.33333 |\n",
       "| Iris-virginica | 40 | 33.33333 |\n",
       "\n"
      ],
      "text/plain": [
       "                freq percentage\n",
       "Iris-setosa     40   33.33333  \n",
       "Iris-versicolor 40   33.33333  \n",
       "Iris-virginica  40   33.33333  "
      ]
     },
     "metadata": {},
     "output_type": "display_data"
    }
   ],
   "source": [
    "percentage <- prop.table(table(dataset$Species)) * 100\n",
    "cbind(freq=table(dataset$Species), percentage=percentage)"
   ]
  },
  {
   "cell_type": "code",
   "execution_count": null,
   "id": "ce7259c1-cc31-4395-b6b0-c71447fc5b47",
   "metadata": {},
   "outputs": [],
   "source": []
  },
  {
   "cell_type": "code",
   "execution_count": null,
   "id": "1bc7b492-4106-440d-b4ef-4feeefbb9c2b",
   "metadata": {},
   "outputs": [],
   "source": []
  },
  {
   "cell_type": "code",
   "execution_count": null,
   "id": "1011c51b-7089-4126-a557-b19d2e00f916",
   "metadata": {},
   "outputs": [],
   "source": []
  },
  {
   "cell_type": "code",
   "execution_count": null,
   "id": "62d3d1b9-dcf5-4606-9d3b-0cf6f6cfa88e",
   "metadata": {},
   "outputs": [],
   "source": []
  },
  {
   "cell_type": "code",
   "execution_count": null,
   "id": "56943839-144f-4864-8da1-380ba636b029",
   "metadata": {},
   "outputs": [],
   "source": []
  }
 ],
 "metadata": {
  "kernelspec": {
   "display_name": "R",
   "language": "R",
   "name": "ir"
  },
  "language_info": {
   "codemirror_mode": "r",
   "file_extension": ".r",
   "mimetype": "text/x-r-source",
   "name": "R",
   "pygments_lexer": "r",
   "version": "4.0.5"
  }
 },
 "nbformat": 4,
 "nbformat_minor": 5
}
