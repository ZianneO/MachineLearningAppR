{
 "cells": [
  {
   "cell_type": "markdown",
   "id": "8c3dbf03-e772-40c3-b56a-2438ab5947b3",
   "metadata": {},
   "source": [
    "# Machine Learning App R\n",
    "## Zianne Olverson"
   ]
  },
  {
   "cell_type": "code",
   "execution_count": 1,
   "id": "2343aea0-2f57-458c-a718-26f48fcdf92b",
   "metadata": {},
   "outputs": [
    {
     "name": "stderr",
     "output_type": "stream",
     "text": [
      "Updating HTML index of packages in '.Library'\n",
      "\n",
      "Making 'packages.html' ...\n",
      " done\n",
      "\n"
     ]
    }
   ],
   "source": [
    "install.packages(\"caret\")"
   ]
  },
  {
   "cell_type": "code",
   "execution_count": 12,
   "id": "89d5ef57-44b6-4fed-80d4-0a1f805c75fe",
   "metadata": {},
   "outputs": [
    {
     "name": "stderr",
     "output_type": "stream",
     "text": [
      "Updating HTML index of packages in '.Library'\n",
      "\n",
      "Making 'packages.html' ...\n",
      " done\n",
      "\n",
      "Updating HTML index of packages in '.Library'\n",
      "\n",
      "Making 'packages.html' ...\n",
      " done\n",
      "\n",
      "Updating HTML index of packages in '.Library'\n",
      "\n",
      "Making 'packages.html' ...\n",
      " done\n",
      "\n",
      "also installing the dependencies ‘labelled’, ‘questionr’\n",
      "\n",
      "\n",
      "Warning message in install.packages(\"klaR\"):\n",
      "“installation of package ‘labelled’ had non-zero exit status”\n",
      "Warning message in install.packages(\"klaR\"):\n",
      "“installation of package ‘questionr’ had non-zero exit status”\n",
      "Warning message in install.packages(\"klaR\"):\n",
      "“installation of package ‘klaR’ had non-zero exit status”\n",
      "Updating HTML index of packages in '.Library'\n",
      "\n",
      "Making 'packages.html' ...\n",
      " done\n",
      "\n",
      "Updating HTML index of packages in '.Library'\n",
      "\n",
      "Making 'packages.html' ...\n",
      " done\n",
      "\n",
      "Updating HTML index of packages in '.Library'\n",
      "\n",
      "Making 'packages.html' ...\n",
      " done\n",
      "\n"
     ]
    }
   ],
   "source": [
    "install.packages(\"ggplot2\")\n",
    "install.packages(\"lattice\")\n",
    "install.packages(\"e1071\")\n",
    "install.packages(\"klaR\")\n",
    "install.packages(\"rpart\")\n",
    "install.packages(\"nnet\")"
   ]
  },
  {
   "cell_type": "code",
   "execution_count": 13,
   "id": "2b459000-d9e6-4d92-b4a5-46c30982c8a6",
   "metadata": {},
   "outputs": [
    {
     "name": "stderr",
     "output_type": "stream",
     "text": [
      "Warning message:\n",
      "“package ‘randomForest’ is not available for this version of R\n",
      "‘randomForest’ version 4.7-1.1 is in the repositories but depends on R (>= 4.1.0)\n",
      "\n",
      "A version of this package for your version of R might be available elsewhere,\n",
      "see the ideas at\n",
      "https://cran.r-project.org/doc/manuals/r-patched/R-admin.html#Installing-packages”\n"
     ]
    }
   ],
   "source": [
    "install.packages(\"randomForest\")"
   ]
  },
  {
   "cell_type": "code",
   "execution_count": 14,
   "id": "ed822d6d-6d81-4992-bca5-76c577ed35ab",
   "metadata": {},
   "outputs": [
    {
     "name": "stderr",
     "output_type": "stream",
     "text": [
      "Warning message in install.packages(\"labelled\"):\n",
      "“installation of package ‘labelled’ had non-zero exit status”\n",
      "Updating HTML index of packages in '.Library'\n",
      "\n",
      "Making 'packages.html' ...\n",
      " done\n",
      "\n",
      "also installing the dependency ‘labelled’\n",
      "\n",
      "\n",
      "Warning message in install.packages(\"questionr\"):\n",
      "“installation of package ‘labelled’ had non-zero exit status”\n",
      "Warning message in install.packages(\"questionr\"):\n",
      "“installation of package ‘questionr’ had non-zero exit status”\n",
      "Updating HTML index of packages in '.Library'\n",
      "\n",
      "Making 'packages.html' ...\n",
      " done\n",
      "\n"
     ]
    }
   ],
   "source": [
    "install.packages(\"labelled\")\n",
    "install.packages(\"questionr\")"
   ]
  },
  {
   "cell_type": "code",
   "execution_count": 15,
   "id": "b17aaf99-09dc-45b3-9517-d089c8d6d509",
   "metadata": {},
   "outputs": [
    {
     "name": "stderr",
     "output_type": "stream",
     "text": [
      "Warning message in install.packages(\"ranger\"):\n",
      "“installation of package ‘ranger’ had non-zero exit status”\n",
      "Updating HTML index of packages in '.Library'\n",
      "\n",
      "Making 'packages.html' ...\n",
      " done\n",
      "\n"
     ]
    }
   ],
   "source": [
    "install.packages(\"ranger\")"
   ]
  },
  {
   "cell_type": "code",
   "execution_count": 16,
   "id": "9c26af0c-9660-400e-bf52-074a8e228159",
   "metadata": {},
   "outputs": [
    {
     "name": "stderr",
     "output_type": "stream",
     "text": [
      "also installing the dependencies ‘labelled’, ‘questionr’\n",
      "\n",
      "\n",
      "Warning message in install.packages(\"klaR\"):\n",
      "“installation of package ‘labelled’ had non-zero exit status”\n",
      "Warning message in install.packages(\"klaR\"):\n",
      "“installation of package ‘questionr’ had non-zero exit status”\n",
      "Warning message in install.packages(\"klaR\"):\n",
      "“installation of package ‘klaR’ had non-zero exit status”\n",
      "Updating HTML index of packages in '.Library'\n",
      "\n",
      "Making 'packages.html' ...\n",
      " done\n",
      "\n"
     ]
    }
   ],
   "source": [
    "install.packages(\"klaR\")"
   ]
  },
  {
   "cell_type": "code",
   "execution_count": 17,
   "id": "99afb2cf-526e-4412-8851-ba691201e6a5",
   "metadata": {},
   "outputs": [
    {
     "name": "stderr",
     "output_type": "stream",
     "text": [
      "randomForest 4.6-14\n",
      "\n",
      "Type rfNews() to see new features/changes/bug fixes.\n",
      "\n",
      "\n",
      "Attaching package: ‘randomForest’\n",
      "\n",
      "\n",
      "The following object is masked from ‘package:ggplot2’:\n",
      "\n",
      "    margin\n",
      "\n",
      "\n"
     ]
    },
    {
     "ename": "ERROR",
     "evalue": "Error in library(klaR): there is no package called ‘klaR’\n",
     "output_type": "error",
     "traceback": [
      "Error in library(klaR): there is no package called ‘klaR’\nTraceback:\n",
      "1. library(klaR)"
     ]
    }
   ],
   "source": [
    "library(ggplot2)\n",
    "library(lattice)\n",
    "library(e1071)\n",
    "library(randomForest)\n",
    "library(klaR)\n",
    "library(rpart)\n",
    "library(nnet)"
   ]
  },
  {
   "cell_type": "code",
   "execution_count": 18,
   "id": "3bb8ef3d-e57f-430c-b745-4676bbc31de9",
   "metadata": {},
   "outputs": [],
   "source": [
    "library(caret)"
   ]
  },
  {
   "cell_type": "markdown",
   "id": "ed424eae-f328-42bd-9917-127025839fd4",
   "metadata": {},
   "source": [
    "# Attach the iris dataset to the environment"
   ]
  },
  {
   "cell_type": "code",
   "execution_count": 19,
   "id": "109b3748-3d78-436f-a300-7c001e447539",
   "metadata": {},
   "outputs": [
    {
     "name": "stdout",
     "output_type": "stream",
     "text": [
      "'data.frame':\t150 obs. of  5 variables:\n",
      " $ Sepal.Length: num  5.1 4.9 4.7 4.6 5 5.4 4.6 5 4.4 4.9 ...\n",
      " $ Sepal.Width : num  3.5 3 3.2 3.1 3.6 3.9 3.4 3.4 2.9 3.1 ...\n",
      " $ Petal.Length: num  1.4 1.4 1.3 1.5 1.4 1.7 1.4 1.5 1.4 1.5 ...\n",
      " $ Petal.Width : num  0.2 0.2 0.2 0.2 0.2 0.4 0.3 0.2 0.2 0.1 ...\n",
      " $ Species     : Factor w/ 3 levels \"setosa\",\"versicolor\",..: 1 1 1 1 1 1 1 1 1 1 ...\n"
     ]
    }
   ],
   "source": [
    "data(iris)\n",
    "str(iris)"
   ]
  },
  {
   "cell_type": "markdown",
   "id": "ccf312ee-1430-4ad6-935b-238cb03c3376",
   "metadata": {},
   "source": [
    "# Rename the dataset"
   ]
  },
  {
   "cell_type": "code",
   "execution_count": 20,
   "id": "50909ea6-d52f-4698-a026-1ef12de9bbbe",
   "metadata": {},
   "outputs": [],
   "source": [
    "dataset <- iris"
   ]
  },
  {
   "cell_type": "markdown",
   "id": "48b389fb-937a-4f4c-a74a-416d9a06e9a9",
   "metadata": {},
   "source": [
    "# Defining the filename"
   ]
  },
  {
   "cell_type": "code",
   "execution_count": 21,
   "id": "973936cc-f648-4f2f-b31b-858d1768cbe8",
   "metadata": {},
   "outputs": [],
   "source": [
    "filename <- \"iris.csv\""
   ]
  },
  {
   "cell_type": "markdown",
   "id": "df6349af-a411-4dff-acb5-c187030ff390",
   "metadata": {},
   "source": [
    "# Load the CSV file from the local directory"
   ]
  },
  {
   "cell_type": "code",
   "execution_count": 22,
   "id": "a0ee2016-d2fc-41f4-a955-07ab5e88fd28",
   "metadata": {},
   "outputs": [],
   "source": [
    "dataset <- read.csv(filename, header=FALSE)"
   ]
  },
  {
   "cell_type": "code",
   "execution_count": null,
   "id": "baf0c612-30ca-43e9-ae5e-90d290e6fb26",
   "metadata": {},
   "outputs": [],
   "source": [
    "# set the column names in the dataset"
   ]
  },
  {
   "cell_type": "code",
   "execution_count": null,
   "id": "791a4b23-73f5-4513-8cec-dc1f7a491916",
   "metadata": {},
   "outputs": [],
   "source": [
    "colnames(dataset) <- c(\"Sepal.Length\",\"Sepal.Width\",\"Petal.Length\",\"Petal.Width\",\"Species\")"
   ]
  },
  {
   "cell_type": "code",
   "execution_count": null,
   "id": "d94b272b-0cf7-46ab-b4a1-c30097c9ceec",
   "metadata": {},
   "outputs": [],
   "source": [
    "\n",
    "# create a list of 80% of the rows in the original dataset we can use for training\n",
    "validation_index <- createDataPartition(dataset$Species, p=0.80, list=FALSE)\n",
    "# select 20% of the data for validation\n",
    "validation <- dataset[-validation_index,]\n",
    "# use the remaining 80% of data to training and testing the models\n",
    "dataset <- dataset[validation_index,]"
   ]
  },
  {
   "cell_type": "code",
   "execution_count": null,
   "id": "ec201de3-90ad-4a8d-acd8-97df016727fd",
   "metadata": {},
   "outputs": [],
   "source": [
    "# dimensions of dataset\n",
    "dim(dataset)"
   ]
  },
  {
   "cell_type": "code",
   "execution_count": null,
   "id": "a9668c99-eb71-4b3d-9f85-9be380eafd51",
   "metadata": {},
   "outputs": [],
   "source": [
    "# list types for each attribute\n",
    "sapply(dataset, class)"
   ]
  },
  {
   "cell_type": "code",
   "execution_count": null,
   "id": "f8ed8a18-e224-445d-b645-59e8a689b71e",
   "metadata": {},
   "outputs": [],
   "source": [
    "\n",
    "Sepal.Length Sepal.Width Petal.Length Petal.Width Species \n",
    " \"numeric\" \"numeric\" \"numeric\" \"numeric\" \"factor\""
   ]
  },
  {
   "cell_type": "code",
   "execution_count": null,
   "id": "ca8c2eb2-cccc-4096-9de5-add0a0cae1e8",
   "metadata": {},
   "outputs": [],
   "source": [
    "\n",
    "# take a peek at the first 5 rows of the data\n",
    "head(dataset)"
   ]
  },
  {
   "cell_type": "code",
   "execution_count": null,
   "id": "65a01cd2-e65c-44a2-9238-107465c7fe2d",
   "metadata": {},
   "outputs": [],
   "source": [
    "\n",
    "# list the levels for the class\n",
    "levels(dataset$Species)"
   ]
  },
  {
   "cell_type": "code",
   "execution_count": null,
   "id": "3643d974-e78a-45c8-a2b2-d8314a89daf9",
   "metadata": {},
   "outputs": [],
   "source": [
    "\n",
    "# summarize the class distribution\n",
    "percentage <- prop.table(table(dataset$Species)) * 100\n",
    "cbind(freq=table(dataset$Species), percentage=percentage)"
   ]
  },
  {
   "cell_type": "code",
   "execution_count": null,
   "id": "ce7259c1-cc31-4395-b6b0-c71447fc5b47",
   "metadata": {},
   "outputs": [],
   "source": []
  },
  {
   "cell_type": "code",
   "execution_count": null,
   "id": "1bc7b492-4106-440d-b4ef-4feeefbb9c2b",
   "metadata": {},
   "outputs": [],
   "source": []
  },
  {
   "cell_type": "code",
   "execution_count": null,
   "id": "1011c51b-7089-4126-a557-b19d2e00f916",
   "metadata": {},
   "outputs": [],
   "source": []
  },
  {
   "cell_type": "code",
   "execution_count": null,
   "id": "62d3d1b9-dcf5-4606-9d3b-0cf6f6cfa88e",
   "metadata": {},
   "outputs": [],
   "source": []
  },
  {
   "cell_type": "code",
   "execution_count": null,
   "id": "56943839-144f-4864-8da1-380ba636b029",
   "metadata": {},
   "outputs": [],
   "source": []
  }
 ],
 "metadata": {
  "kernelspec": {
   "display_name": "R",
   "language": "R",
   "name": "ir"
  },
  "language_info": {
   "codemirror_mode": "r",
   "file_extension": ".r",
   "mimetype": "text/x-r-source",
   "name": "R",
   "pygments_lexer": "r",
   "version": "4.0.5"
  }
 },
 "nbformat": 4,
 "nbformat_minor": 5
}
