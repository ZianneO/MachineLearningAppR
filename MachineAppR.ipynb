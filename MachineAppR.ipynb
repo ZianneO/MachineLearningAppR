{
 "cells": [
  {
   "cell_type": "markdown",
   "id": "8c3dbf03-e772-40c3-b56a-2438ab5947b3",
   "metadata": {},
   "source": [
    "# Machine Learning App R\n",
    "## Zianne Olverson"
   ]
  },
  {
   "cell_type": "code",
   "execution_count": 2,
   "id": "2343aea0-2f57-458c-a718-26f48fcdf92b",
   "metadata": {},
   "outputs": [
    {
     "name": "stderr",
     "output_type": "stream",
     "text": [
      "Warning message in install.packages(\"caret\"):\n",
      "“installation of package ‘caret’ had non-zero exit status”\n",
      "Updating HTML index of packages in '.Library'\n",
      "\n",
      "Making 'packages.html' ...\n",
      " done\n",
      "\n"
     ]
    }
   ],
   "source": [
    "install.packages(\"caret\")"
   ]
  },
  {
   "cell_type": "code",
   "execution_count": 3,
   "id": "89d5ef57-44b6-4fed-80d4-0a1f805c75fe",
   "metadata": {},
   "outputs": [
    {
     "name": "stderr",
     "output_type": "stream",
     "text": [
      "Updating HTML index of packages in '.Library'\n",
      "\n",
      "Making 'packages.html' ...\n",
      " done\n",
      "\n",
      "Updating HTML index of packages in '.Library'\n",
      "\n",
      "Making 'packages.html' ...\n",
      " done\n",
      "\n",
      "Updating HTML index of packages in '.Library'\n",
      "\n",
      "Making 'packages.html' ...\n",
      " done\n",
      "\n",
      "Updating HTML index of packages in '.Library'\n",
      "\n",
      "Making 'packages.html' ...\n",
      " done\n",
      "\n",
      "Updating HTML index of packages in '.Library'\n",
      "\n",
      "Making 'packages.html' ...\n",
      " done\n",
      "\n",
      "Updating HTML index of packages in '.Library'\n",
      "\n",
      "Making 'packages.html' ...\n",
      " done\n",
      "\n"
     ]
    }
   ],
   "source": [
    "install.packages(\"ggplot2\")\n",
    "install.packages(\"lattice\")\n",
    "install.packages(\"e1071\")\n",
    "install.packages(\"klaR\")\n",
    "install.packages(\"rpart\")\n",
    "install.packages(\"nnet\")"
   ]
  },
  {
   "cell_type": "code",
   "execution_count": 4,
   "id": "2b459000-d9e6-4d92-b4a5-46c30982c8a6",
   "metadata": {},
   "outputs": [
    {
     "name": "stderr",
     "output_type": "stream",
     "text": [
      "Updating HTML index of packages in '.Library'\n",
      "\n",
      "Making 'packages.html' ...\n",
      " done\n",
      "\n"
     ]
    }
   ],
   "source": [
    "install.packages(\"randomForest\")"
   ]
  },
  {
   "cell_type": "code",
   "execution_count": 5,
   "id": "ed822d6d-6d81-4992-bca5-76c577ed35ab",
   "metadata": {},
   "outputs": [
    {
     "name": "stderr",
     "output_type": "stream",
     "text": [
      "Updating HTML index of packages in '.Library'\n",
      "\n",
      "Making 'packages.html' ...\n",
      " done\n",
      "\n",
      "Updating HTML index of packages in '.Library'\n",
      "\n",
      "Making 'packages.html' ...\n",
      " done\n",
      "\n"
     ]
    }
   ],
   "source": [
    "install.packages(\"labelled\")\n",
    "install.packages(\"questionr\")"
   ]
  },
  {
   "cell_type": "code",
   "execution_count": null,
   "id": "b17aaf99-09dc-45b3-9517-d089c8d6d509",
   "metadata": {},
   "outputs": [],
   "source": [
    "install.packages(\"ranger\")"
   ]
  },
  {
   "cell_type": "code",
   "execution_count": null,
   "id": "9c26af0c-9660-400e-bf52-074a8e228159",
   "metadata": {},
   "outputs": [],
   "source": [
    "install.packages(\"klaR\")"
   ]
  },
  {
   "cell_type": "code",
   "execution_count": null,
   "id": "99afb2cf-526e-4412-8851-ba691201e6a5",
   "metadata": {},
   "outputs": [],
   "source": [
    "library(ggplot2)\n",
    "library(lattice)\n",
    "library(e1071)\n",
    "library(randomForest)\n",
    "library(klaR)\n",
    "library(rpart)\n",
    "library(nnet)\n",
    "library(caret)"
   ]
  },
  {
   "cell_type": "markdown",
   "id": "ed424eae-f328-42bd-9917-127025839fd4",
   "metadata": {},
   "source": [
    "# Attach the iris dataset to the environment"
   ]
  },
  {
   "cell_type": "code",
   "execution_count": null,
   "id": "109b3748-3d78-436f-a300-7c001e447539",
   "metadata": {},
   "outputs": [],
   "source": [
    "data(iris)\n",
    "dataset <- iris"
   ]
  },
  {
   "cell_type": "markdown",
   "id": "48b389fb-937a-4f4c-a74a-416d9a06e9a9",
   "metadata": {},
   "source": [
    "# Defining the filename"
   ]
  },
  {
   "cell_type": "code",
   "execution_count": null,
   "id": "973936cc-f648-4f2f-b31b-858d1768cbe8",
   "metadata": {},
   "outputs": [],
   "source": [
    "filename <- \"iris.csv\""
   ]
  },
  {
   "cell_type": "markdown",
   "id": "df6349af-a411-4dff-acb5-c187030ff390",
   "metadata": {},
   "source": [
    "# Load the CSV file from the local directory"
   ]
  },
  {
   "cell_type": "code",
   "execution_count": null,
   "id": "a0ee2016-d2fc-41f4-a955-07ab5e88fd28",
   "metadata": {},
   "outputs": [],
   "source": [
    "dataset <- read.csv(filename, header=FALSE)"
   ]
  },
  {
   "cell_type": "markdown",
   "id": "4d8c3a03-ff09-457c-9c0c-6b7e8742d82e",
   "metadata": {},
   "source": [
    "# Setting the column names in the dataset"
   ]
  },
  {
   "cell_type": "code",
   "execution_count": null,
   "id": "791a4b23-73f5-4513-8cec-dc1f7a491916",
   "metadata": {},
   "outputs": [],
   "source": [
    "colnames(dataset) <- c(\"Sepal.Length\",\"Sepal.Width\",\"Petal.Length\",\"Petal.Width\",\"Species\")"
   ]
  },
  {
   "cell_type": "markdown",
   "id": "98aabaef-0097-413a-b29e-d8cccbbdc718",
   "metadata": {},
   "source": [
    "# Creating validation"
   ]
  },
  {
   "cell_type": "markdown",
   "id": "0726d83b-84b9-4141-9727-2c10d9c14ba2",
   "metadata": {},
   "source": [
    "# Creating a list of 80% of the rows in the original dataset to be used for training"
   ]
  },
  {
   "cell_type": "code",
   "execution_count": null,
   "id": "57f35d1b-8595-4149-b2c9-bc7d00b78c50",
   "metadata": {},
   "outputs": [],
   "source": [
    "validation_index <- createDataPartition(dataset$Species, p=0.80, list=FALSE)"
   ]
  },
  {
   "cell_type": "markdown",
   "id": "4f6a36f5-493c-493c-8c5d-41d5559e352d",
   "metadata": {},
   "source": [
    "# Select 20% of the data for validation"
   ]
  },
  {
   "cell_type": "code",
   "execution_count": null,
   "id": "522a0d9c-6357-4dc5-9751-fff69b06de27",
   "metadata": {},
   "outputs": [],
   "source": [
    "validation <- dataset[-validation_index,]"
   ]
  },
  {
   "cell_type": "markdown",
   "id": "52306629-9da7-4cfa-b16a-76ac8994624b",
   "metadata": {},
   "source": [
    "# Using the remaining 80% of data to training and testing the models"
   ]
  },
  {
   "cell_type": "code",
   "execution_count": null,
   "id": "d94b272b-0cf7-46ab-b4a1-c30097c9ceec",
   "metadata": {},
   "outputs": [],
   "source": [
    "dataset <- dataset[validation_index,]"
   ]
  },
  {
   "cell_type": "markdown",
   "id": "39709480-9045-4628-8b36-5d669a4fda93",
   "metadata": {},
   "source": [
    "# Data dimensions"
   ]
  },
  {
   "cell_type": "code",
   "execution_count": null,
   "id": "ec201de3-90ad-4a8d-acd8-97df016727fd",
   "metadata": {},
   "outputs": [],
   "source": [
    "dim(dataset)"
   ]
  },
  {
   "cell_type": "markdown",
   "id": "4982b0fb-6250-485b-8f23-39b0d913c111",
   "metadata": {},
   "source": [
    "# Listing types for each attribute"
   ]
  },
  {
   "cell_type": "code",
   "execution_count": null,
   "id": "a9668c99-eb71-4b3d-9f85-9be380eafd51",
   "metadata": {},
   "outputs": [],
   "source": [
    "sapply(dataset, class)"
   ]
  },
  {
   "cell_type": "markdown",
   "id": "c419223a-2822-4168-867d-eaeb67b34300",
   "metadata": {},
   "source": [
    "# First 5 rows of the data"
   ]
  },
  {
   "cell_type": "code",
   "execution_count": null,
   "id": "ca8c2eb2-cccc-4096-9de5-add0a0cae1e8",
   "metadata": {},
   "outputs": [],
   "source": [
    "head(dataset)"
   ]
  },
  {
   "cell_type": "markdown",
   "id": "75e40fcd-d11d-4b0d-8be2-940726420d38",
   "metadata": {},
   "source": [
    "# Listing the levels for the class"
   ]
  },
  {
   "cell_type": "code",
   "execution_count": null,
   "id": "65a01cd2-e65c-44a2-9238-107465c7fe2d",
   "metadata": {},
   "outputs": [],
   "source": [
    "str(dataset$Species)\n",
    "class(dataset$Species)\n",
    "dataset$Species <- as.factor(dataset$Species)\n",
    "levels(dataset$Species)"
   ]
  },
  {
   "cell_type": "markdown",
   "id": "0cb68a4f-bc15-41b2-b702-f75a7efe9c54",
   "metadata": {},
   "source": [
    "# Summarization of class distribution"
   ]
  },
  {
   "cell_type": "code",
   "execution_count": null,
   "id": "3643d974-e78a-45c8-a2b2-d8314a89daf9",
   "metadata": {},
   "outputs": [],
   "source": [
    "percentage <- prop.table(table(dataset$Species)) * 100\n",
    "cbind(freq=table(dataset$Species), percentage=percentage)"
   ]
  },
  {
   "cell_type": "markdown",
   "id": "af9bf3f6-acb9-4377-92ba-64aeb62fe788",
   "metadata": {},
   "source": [
    "# Summary of statistical distributions"
   ]
  },
  {
   "cell_type": "code",
   "execution_count": null,
   "id": "ce7259c1-cc31-4395-b6b0-c71447fc5b47",
   "metadata": {},
   "outputs": [],
   "source": [
    "summary(dataset)"
   ]
  },
  {
   "cell_type": "markdown",
   "id": "b4d87cc5-3e5b-480c-87d9-63fbf0ce499e",
   "metadata": {},
   "source": [
    "# Visualizing the dataset"
   ]
  },
  {
   "cell_type": "markdown",
   "id": "995883c2-7f42-42f4-8be1-0373a25ffbdc",
   "metadata": {},
   "source": [
    "## Univariate Plotting"
   ]
  },
  {
   "cell_type": "markdown",
   "id": "7152aff1-274f-4e74-a3f3-eb1a76bc24e4",
   "metadata": {},
   "source": [
    "# Split of input and output"
   ]
  },
  {
   "cell_type": "code",
   "execution_count": null,
   "id": "62d3d1b9-dcf5-4606-9d3b-0cf6f6cfa88e",
   "metadata": {},
   "outputs": [],
   "source": [
    "x <- dataset[,1:4]\n",
    "y <- dataset[,5]"
   ]
  },
  {
   "cell_type": "markdown",
   "id": "d3d698f3-a066-425e-8c04-8c2ce923cbdc",
   "metadata": {},
   "source": [
    "# Boxplot for each attribute on one image"
   ]
  },
  {
   "cell_type": "code",
   "execution_count": null,
   "id": "56943839-144f-4864-8da1-380ba636b029",
   "metadata": {},
   "outputs": [],
   "source": [
    "par(mfrow=c(1,4))\n",
    "  for(i in 1:4) {\n",
    "  boxplot(x[,i], main=names(iris)[i])\n",
    "}"
   ]
  },
  {
   "cell_type": "markdown",
   "id": "8435122b-0e23-49de-a07a-eb7134f021e5",
   "metadata": {},
   "source": [
    "# Barplot for class breakdown"
   ]
  },
  {
   "cell_type": "code",
   "execution_count": null,
   "id": "79a77dd6-48f6-4308-a352-354de5aee479",
   "metadata": {},
   "outputs": [],
   "source": [
    "plot(y)"
   ]
  },
  {
   "cell_type": "markdown",
   "id": "11ddd049-89c4-465e-b9c4-8f6408b5f0ec",
   "metadata": {},
   "source": [
    "# Scatterplot matrix"
   ]
  },
  {
   "cell_type": "code",
   "execution_count": null,
   "id": "fbe67a92-f718-4079-8f8c-710a8182b429",
   "metadata": {},
   "outputs": [],
   "source": [
    "featurePlot(x=x, y=y, plot=\"ellipse\")"
   ]
  },
  {
   "cell_type": "markdown",
   "id": "2c126b5d-8903-4b5b-a9e2-58e8a17d198f",
   "metadata": {},
   "source": [
    "# Box and whisker plots for each attribute"
   ]
  },
  {
   "cell_type": "code",
   "execution_count": null,
   "id": "95fe242e-fc73-4ed1-9bc1-3500b29447f8",
   "metadata": {},
   "outputs": [],
   "source": [
    "featurePlot(x=x, y=y, plot=\"box\")"
   ]
  },
  {
   "cell_type": "markdown",
   "id": "a9c75b19-6b10-474d-8a20-9bc95d662e2c",
   "metadata": {},
   "source": [
    "# Density plots for each attribute by class value"
   ]
  },
  {
   "cell_type": "code",
   "execution_count": null,
   "id": "cbcc8efb-5267-4636-8cf3-3fa561b20569",
   "metadata": {},
   "outputs": [],
   "source": [
    "scales <- list(x=list(relation=\"free\"), y=list(relation=\"free\"))\n",
    "featurePlot(x=x, y=y, plot=\"density\", scales=scales)"
   ]
  }
 ],
 "metadata": {
  "kernelspec": {
   "display_name": "R",
   "language": "R",
   "name": "ir"
  },
  "language_info": {
   "codemirror_mode": "r",
   "file_extension": ".r",
   "mimetype": "text/x-r-source",
   "name": "R",
   "pygments_lexer": "r",
   "version": "4.2.3"
  }
 },
 "nbformat": 4,
 "nbformat_minor": 5
}
