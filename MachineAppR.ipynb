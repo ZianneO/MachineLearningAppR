{
 "cells": [
  {
   "cell_type": "markdown",
   "id": "8c3dbf03-e772-40c3-b56a-2438ab5947b3",
   "metadata": {},
   "source": [
    "# Machine Learning App R\n",
    "## Zianne Olverson"
   ]
  },
  {
   "cell_type": "code",
   "execution_count": null,
   "id": "9ba82a10-9896-40b9-81aa-fe1fc5d9d07c",
   "metadata": {},
   "outputs": [],
   "source": [
    "install.packages(\"caret\")"
   ]
  },
  {
   "cell_type": "code",
   "execution_count": null,
   "id": "fcbd81a7-dbfb-49dd-95a3-01ea84523cc7",
   "metadata": {},
   "outputs": [],
   "source": [
    "install.packages(\"caret\", dependencies=c(\"Depends\", \"Suggests\"))"
   ]
  },
  {
   "cell_type": "code",
   "execution_count": null,
   "id": "3bb8ef3d-e57f-430c-b745-4676bbc31de9",
   "metadata": {},
   "outputs": [],
   "source": [
    "library(caret)"
   ]
  },
  {
   "cell_type": "markdown",
   "id": "ed424eae-f328-42bd-9917-127025839fd4",
   "metadata": {},
   "source": [
    "# Attach the iris dataset to the environment"
   ]
  },
  {
   "cell_type": "code",
   "execution_count": null,
   "id": "109b3748-3d78-436f-a300-7c001e447539",
   "metadata": {},
   "outputs": [],
   "source": [
    "data(iris)"
   ]
  },
  {
   "cell_type": "markdown",
   "id": "ccf312ee-1430-4ad6-935b-238cb03c3376",
   "metadata": {},
   "source": [
    "# Rename the dataset"
   ]
  },
  {
   "cell_type": "code",
   "execution_count": null,
   "id": "50909ea6-d52f-4698-a026-1ef12de9bbbe",
   "metadata": {},
   "outputs": [],
   "source": [
    "dataset <- iris"
   ]
  }
 ],
 "metadata": {
  "kernelspec": {
   "display_name": "R",
   "language": "R",
   "name": "ir"
  },
  "language_info": {
   "codemirror_mode": "r",
   "file_extension": ".r",
   "mimetype": "text/x-r-source",
   "name": "R",
   "pygments_lexer": "r",
   "version": "4.0.5"
  }
 },
 "nbformat": 4,
 "nbformat_minor": 5
}
